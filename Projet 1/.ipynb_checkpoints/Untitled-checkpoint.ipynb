{
 "cells": [
  {
   "cell_type": "code",
   "execution_count": 7,
   "metadata": {},
   "outputs": [
    {
     "name": "stdout",
     "output_type": "stream",
     "text": [
      "https://api.twitter.com/1.1/search/tweets.json?q=damso&lang=eu&result_type=popular\n"
     ]
    },
    {
     "data": {
      "text/plain": [
       "'{\"errors\":[{\"code\":215,\"message\":\"Bad Authentication data.\"}]}'"
      ]
     },
     "execution_count": 7,
     "metadata": {},
     "output_type": "execute_result"
    }
   ],
   "source": [
    "import tweepy\n",
    "import requests\n",
    "\n",
    "api_endpoint = \"https://api.twitter.com/1.1/search/tweets.json?\"\n",
    "search = \"damso\"\n",
    "zone = \"eu\"\n",
    "results_types = [\"mixed\", \"recent\", \"popular\"]\n",
    "\n",
    "string_req = api_endpoint + \"q=\" + search + \"&lang=\" + zone + \"&result_type=\" + results_types[2]\n",
    "print(string_req)\n",
    "json_response = requests.get(string_req)\n",
    "json_response.text"
   ]
  },
  {
   "cell_type": "code",
   "execution_count": null,
   "metadata": {},
   "outputs": [],
   "source": []
  }
 ],
 "metadata": {
  "kernelspec": {
   "display_name": "Python 3",
   "language": "python",
   "name": "python3"
  },
  "language_info": {
   "codemirror_mode": {
    "name": "ipython",
    "version": 3
   },
   "file_extension": ".py",
   "mimetype": "text/x-python",
   "name": "python",
   "nbconvert_exporter": "python",
   "pygments_lexer": "ipython3",
   "version": "3.6.4"
  }
 },
 "nbformat": 4,
 "nbformat_minor": 2
}
